{
    "cells": [
        {
            "cell_type": "code",
            "execution_count": 8,
            "metadata": {},
            "outputs": [
                {
                    "data": {
                        "text/plain": [
                            "'{\"questions\":[{\"question\":\"What is the capital city of South Korea?\",\"answers\":[{\"answer\":\"Busan\",\"correct\":false},{\"answer\":\"Seoul\",\"correct\":true},{\"answer\":\"Incheon\",\"correct\":false}]},{\"question\":\"Which river flows through Seoul?\",\"answers\":[{\"answer\":\"Han River\",\"correct\":true},{\"answer\":\"Nakdong River\",\"correct\":false},{\"answer\":\"Geum River\",\"correct\":false}]},{\"question\":\"What is the name of the famous palace in Seoul?\",\"answers\":[{\"answer\":\"Gyeongbokgung Palace\",\"correct\":true},{\"answer\":\"Changdeokgung Palace\",\"correct\":false},{\"answer\":\"Deoksugung Palace\",\"correct\":false}]}]}'"
                        ]
                    },
                    "execution_count": 8,
                    "metadata": {},
                    "output_type": "execute_result"
                }
            ],
            "source": [
                "from langchain.chat_models import ChatOpenAI\n",
                "from langchain.prompts import PromptTemplate\n",
                "\n",
                "\n",
                "function = {\n",
                "    \"name\": \"create_quiz\",\n",
                "    \"description\": \"function that takes a list of questions and answers and returns a quiz\",\n",
                "    \"parameters\": {\n",
                "        \"type\": \"object\",\n",
                "        \"properties\": {\n",
                "            \"questions\": {\n",
                "                \"type\": \"array\",\n",
                "                \"items\": {\n",
                "                    \"type\": \"object\",\n",
                "                    \"properties\": {\n",
                "                        \"question\": {\n",
                "                            \"type\": \"string\",\n",
                "                        },\n",
                "                        \"answers\": {\n",
                "                            \"type\": \"array\",\n",
                "                            \"items\": {\n",
                "                                \"type\": \"object\",\n",
                "                                \"properties\": {\n",
                "                                    \"answer\": {\n",
                "                                        \"type\": \"string\",\n",
                "                                    },\n",
                "                                    \"correct\": {\n",
                "                                        \"type\": \"boolean\",\n",
                "                                    },\n",
                "                                },\n",
                "                                \"required\": [\"answer\", \"correct\"],\n",
                "                            },\n",
                "                        },\n",
                "                    },\n",
                "                    \"required\": [\"question\", \"answers\"],\n",
                "                },\n",
                "            }\n",
                "        },\n",
                "        \"required\": [\"questions\"],\n",
                "    },\n",
                "}\n",
                "\n",
                "\n",
                "llm = ChatOpenAI(\n",
                "    temperature=0.1,\n",
                ").bind(\n",
                "    function_call={\n",
                "        \"name\": \"create_quiz\",#\n",
                "    },\n",
                "    functions=[\n",
                "        function,\n",
                "    ],\n",
                ")\n",
                "\n",
                "prompt = PromptTemplate.from_template(\"Make a quiz about {city}\")\n",
                "\n",
                "chain = prompt | llm\n",
                "\n",
                "response = chain.invoke({\"city\": \"seoul\"})\n",
                "response = response.additional_kwargs[\"function_call\"][\"arguments\"] # 함수 호출 인자 추출\n",
                "response"
            ]
        },
        {
            "cell_type": "code",
            "execution_count": 9,
            "metadata": {},
            "outputs": [
                {
                    "data": {
                        "text/plain": [
                            "{'questions': [{'question': 'What is the capital city of South Korea?',\n",
                            "   'answers': [{'answer': 'Busan', 'correct': False},\n",
                            "    {'answer': 'Seoul', 'correct': True},\n",
                            "    {'answer': 'Incheon', 'correct': False}]},\n",
                            "  {'question': 'Which river flows through Seoul?',\n",
                            "   'answers': [{'answer': 'Han River', 'correct': True},\n",
                            "    {'answer': 'Nakdong River', 'correct': False},\n",
                            "    {'answer': 'Geum River', 'correct': False}]},\n",
                            "  {'question': 'What is the name of the famous palace in Seoul?',\n",
                            "   'answers': [{'answer': 'Gyeongbokgung Palace', 'correct': True},\n",
                            "    {'answer': 'Changdeokgung Palace', 'correct': False},\n",
                            "    {'answer': 'Deoksugung Palace', 'correct': False}]}]}"
                        ]
                    },
                    "execution_count": 9,
                    "metadata": {},
                    "output_type": "execute_result"
                }
            ],
            "source": [
                "import json \n",
                "json.loads(response)"
            ]
        }
    ],
    "metadata": {
        "kernelspec": {
            "display_name": "env",
            "language": "python",
            "name": "python3"
        },
        "language_info": {
            "codemirror_mode": {
                "name": "ipython",
                "version": 3
            },
            "file_extension": ".py",
            "mimetype": "text/x-python",
            "name": "python",
            "nbconvert_exporter": "python",
            "pygments_lexer": "ipython3",
            "version": "3.11.6"
        }
    },
    "nbformat": 4,
    "nbformat_minor": 2
}
