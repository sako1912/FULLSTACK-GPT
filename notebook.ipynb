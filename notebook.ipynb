{
    "cells": [
        {
            "cell_type": "code",
            "execution_count": 1,
            "metadata": {},
            "outputs": [
                {
                    "name": "stderr",
                    "output_type": "stream",
                    "text": [
                        "/Users/sako/side-project/FULLSTACK-GPT/env/lib/python3.11/site-packages/tqdm/auto.py:21: TqdmWarning: IProgress not found. Please update jupyter and ipywidgets. See https://ipywidgets.readthedocs.io/en/stable/user_install.html\n",
                        "  from .autonotebook import tqdm as notebook_tqdm\n",
                        "Downloading tokenizer_config.json: 100%|██████████| 26.0/26.0 [00:00<00:00, 37.7kB/s]\n",
                        "Downloading config.json: 100%|██████████| 665/665 [00:00<00:00, 1.52MB/s]\n",
                        "Downloading vocab.json: 100%|██████████| 1.04M/1.04M [00:00<00:00, 1.52MB/s]\n",
                        "Downloading merges.txt: 100%|██████████| 456k/456k [00:00<00:00, 951kB/s]\n",
                        "Downloading tokenizer.json: 100%|██████████| 1.36M/1.36M [00:00<00:00, 1.81MB/s]\n",
                        "Downloading model.safetensors: 100%|██████████| 548M/548M [00:09<00:00, 56.6MB/s] \n",
                        "Downloading generation_config.json: 100%|██████████| 124/124 [00:00<00:00, 553kB/s]\n",
                        "Using pad_token, but it is not set yet.\n",
                        "Setting `pad_token_id` to `eos_token_id`:50256 for open-end generation.\n"
                    ]
                },
                {
                    "data": {
                        "text/plain": [
                            "' very soft, green tomato. It is usually ground to crisp and has a very nice crunch. The smell of the water and soil may become overpowering. In many cases, tomatoes produce quite thick, red and white seeds in the middle. They may be harvested late but that takes a while. It seems that in many countries around the world tomatoes grow from late-June to mid-November, so that in most cases the harvest of late season tomatoes will be close to one month old.\\n\\nIn the United States, tomatoes are grown at 5, 14, and 17 years old. The most difficult growing stage is late October through late November. This usually leads to a late fall, winter, or spring, sometimes even summer, with lots of'"
                        ]
                    },
                    "execution_count": 1,
                    "metadata": {},
                    "output_type": "execute_result"
                }
            ],
            "source": [
                "from langchain.llms.huggingface_pipeline import HuggingFacePipeline\n",
                "from langchain.prompts import PromptTemplate\n",
                "\n",
                "prompt = PromptTemplate.from_template(\"A {word} is a\")\n",
                "\n",
                "llm = HuggingFacePipeline.from_model_id(\n",
                "    model_id=\"gpt2\",\n",
                "    task=\"text-generation\", #해당 모델이 어떤 일을 하길 원하는지 명시\n",
                "    pipeline_kwargs={\"max_new_tokens\": 150}, #출력 문자열 길이 제한\n",
                "    #device=0 #0 GPU 사용(mac pro사용 불가), -1 CPU 사용\n",
                ")\n",
                "\n",
                "chain = prompt | llm\n",
                "\n",
                "chain.invoke({\"word\": \"tomato\"})"
            ]
        }
    ],
    "metadata": {
        "kernelspec": {
            "display_name": "env",
            "language": "python",
            "name": "python3"
        },
        "language_info": {
            "codemirror_mode": {
                "name": "ipython",
                "version": 3
            },
            "file_extension": ".py",
            "mimetype": "text/x-python",
            "name": "python",
            "nbconvert_exporter": "python",
            "pygments_lexer": "ipython3",
            "version": "3.11.6"
        }
    },
    "nbformat": 4,
    "nbformat_minor": 2
}
